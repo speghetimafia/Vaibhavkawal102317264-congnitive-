{
  "nbformat": 4,
  "nbformat_minor": 0,
  "metadata": {
    "colab": {
      "provenance": []
    },
    "kernelspec": {
      "name": "python3",
      "display_name": "Python 3"
    },
    "language_info": {
      "name": "python"
    }
  },
  "cells": [
    {
      "cell_type": "code",
      "execution_count": 1,
      "metadata": {
        "colab": {
          "base_uri": "https://localhost:8080/"
        },
        "id": "GCSbUok4dFM2",
        "outputId": "091683d9-e804-478b-e36b-45856902d60d"
      },
      "outputs": [
        {
          "output_type": "stream",
          "name": "stdout",
          "text": [
            "Anything you find cool\n"
          ]
        }
      ],
      "source": [
        "\n",
        "print(\"Anything you find cool\")\n"
      ]
    },
    {
      "cell_type": "code",
      "source": [
        "\n",
        "a = 5\n",
        "b = 7\n",
        "\n",
        "c = a + b\n",
        "\n",
        "print(\"Answer = \",c)\n"
      ],
      "metadata": {
        "id": "5LW_UNEidKBE",
        "colab": {
          "base_uri": "https://localhost:8080/"
        },
        "outputId": "f2aa9bcf-cc5e-4d73-9065-56d3e2fb0cd4"
      },
      "execution_count": 2,
      "outputs": [
        {
          "output_type": "stream",
          "name": "stdout",
          "text": [
            "Answer =  12\n"
          ]
        }
      ]
    },
    {
      "cell_type": "code",
      "source": [
        "\n",
        "\n",
        "a = \"Hello\"\n",
        "b = \" World\"\n",
        "c = a + b\n",
        "\n",
        "print(\"Answer = \",c)\n"
      ],
      "metadata": {
        "colab": {
          "base_uri": "https://localhost:8080/"
        },
        "id": "QBFOQ-O8ieYj",
        "outputId": "ada028e2-d47f-4b75-c0dc-8b9b23087b59"
      },
      "execution_count": 3,
      "outputs": [
        {
          "output_type": "stream",
          "name": "stdout",
          "text": [
            "Answer =  Hello World\n"
          ]
        }
      ]
    },
    {
      "cell_type": "code",
      "source": [
        "\n",
        "a = 5\n",
        "b = \" Hello \"\n",
        "\n",
        "c = str(a) + b\n",
        "print(\"Answer = \",c)\n"
      ],
      "metadata": {
        "colab": {
          "base_uri": "https://localhost:8080/"
        },
        "id": "iw3a8nOEiq9r",
        "outputId": "e21d6e06-c9f4-4456-cdcc-b3e4c2d5df32"
      },
      "execution_count": 4,
      "outputs": [
        {
          "output_type": "stream",
          "name": "stdout",
          "text": [
            "Answer =  5 Hello \n"
          ]
        }
      ]
    },
    {
      "cell_type": "code",
      "source": [
        "\n",
        "\n",
        "\n",
        "num = int(input(\"Please enter number: \"))\n",
        "\n",
        "if num > 0:\n",
        "print(\"Number is positive\")\n",
        "elif num==0:\n",
        "print(\"Entered 0\")\n",
        "else:\n",
        "print(\"Number entered is negative\")\n"
      ],
      "metadata": {
        "colab": {
          "base_uri": "https://localhost:8080/"
        },
        "id": "PbmCj4FHjYgl",
        "outputId": "5fcbda28-0f10-4ce1-8ed4-667b6ba2755d"
      },
      "execution_count": 5,
      "outputs": [
        {
          "output_type": "stream",
          "name": "stdout",
          "text": [
            "Please enter number: 5\n",
            "Number is positive\n"
          ]
        }
      ]
    },
    {
      "cell_type": "code",
      "source": [
        "\n",
        "\n",
        "num = int(input(\"Please enter number: \"))\n",
        "\n",
        "if num%2==0:\n",
        "print(\"Number is even\")\n",
        "else:\n",
        "print(\"Number is odd\")\n"
      ],
      "metadata": {
        "colab": {
          "base_uri": "https://localhost:8080/"
        },
        "id": "d4LzOXGHj03d",
        "outputId": "40a45051-8260-458f-f956-fe114bfb1df4"
      },
      "execution_count": 6,
      "outputs": [
        {
          "output_type": "stream",
          "name": "stdout",
          "text": [
            "Please enter number: 2\n",
            "Number is even\n"
          ]
        }
      ]
    },
    {
      "cell_type": "code",
      "source": [
        "\n",
        "\n",
        "\n",
        "for i in range(1,11):\n",
        "print(i)\n"
      ],
      "metadata": {
        "colab": {
          "base_uri": "https://localhost:8080/"
        },
        "id": "QSuB65iJkm2k",
        "outputId": "ca57e02f-34ed-458e-98c0-494db3077be1"
      },
      "execution_count": 7,
      "outputs": [
        {
          "output_type": "stream",
          "name": "stdout",
          "text": [
            "1\n",
            "2\n",
            "3\n",
            "4\n",
            "5\n",
            "6\n",
            "7\n",
            "8\n",
            "9\n",
            "10\n"
          ]
        }
      ]
    },
    {
      "cell_type": "code",
      "source": [
        "\n",
        "\n",
        "\n",
        "i = 1\n",
        "\n",
        "while i < 11:\n",
        "print(i)\n",
        "i+=1\n"
      ],
      "metadata": {
        "colab": {
          "base_uri": "https://localhost:8080/"
        },
        "id": "g5Plv2lHlJtc",
        "outputId": "de5902e4-2644-4181-d978-a56aa46f1086"
      },
      "execution_count": 8,
      "outputs": [
        {
          "output_type": "stream",
          "name": "stdout",
          "text": [
            "1\n",
            "2\n",
            "3\n",
            "4\n",
            "5\n",
            "6\n",
            "7\n",
            "8\n",
            "9\n",
            "10\n"
          ]
        }
      ]
    },
    {
      "cell_type": "code",
      "source": [
        "\n",
        "\n",
        "sum = 0\n",
        "\n",
        "\n",
        "for i in range(1,101):\n",
        "sum+=i\n",
        "\n",
        "print(\"Sum is = \",sum)\n"
      ],
      "metadata": {
        "colab": {
          "base_uri": "https://localhost:8080/"
        },
        "id": "I_A1DYsUlVxD",
        "outputId": "84a6d32a-17fb-4ecd-c8c2-e6bf56bd398a"
      },
      "execution_count": 9,
      "outputs": [
        {
          "output_type": "stream",
          "name": "stdout",
          "text": [
            "Sum is =  5050\n"
          ]
        }
      ]
    },
    {
      "cell_type": "code",
      "source": [
        "\n",
        "\n",
        "\n",
        "arr = [1,2,3,4,5]\n",
        "\n",
        "max = -1000000000\n",
        "min =  1000000000\n",
        "\n",
        "for i in arr:\n",
        "if i > max:\n",
        "max = i\n",
        "if i < min:\n",
        "min = i\n",
        "print(\"Max is = \",max)\n",
        "print(\"Min is = \",min)\n",
        "\n"
      ],
      "metadata": {
        "colab": {
          "base_uri": "https://localhost:8080/"
        },
        "id": "CzhrqlZflutU",
        "outputId": "61189bd3-cc40-4dd1-f028-85b275d8d4a6"
      },
      "execution_count": 10,
      "outputs": [
        {
          "output_type": "stream",
          "name": "stdout",
          "text": [
            "Max is =  5\n",
            "Min is =  1\n"
          ]
        }
      ]
    },
    {
      "cell_type": "code",
      "source": [
        "\n",
        "\n",
        "\n",
        "myFirstDict = {\n",
        "\"Name\" : \"Aryaman\",\n",
        "\"Age\" : 20 ,\n",
        "\"Interests\" : [\"Tomfoolery\",\"Poetry\"]\n",
        "}\n",
        "\n",
        "print(myFirstDict[\"Name\"])\n"
      ],
      "metadata": {
        "colab": {
          "base_uri": "https://localhost:8080/"
        },
        "id": "FVDvVZzTmYN4",
        "outputId": "9b35a135-942e-49bc-8255-2a8b10009be9"
      },
      "execution_count": 11,
      "outputs": [
        {
          "output_type": "stream",
          "name": "stdout",
          "text": [
            "Aryaman\n"
          ]
        }
      ]
    },
    {
      "cell_type": "code",
      "source": [
        "\n",
        "\n",
        "\n",
        "\n",
        "arr = [2,8,4,90,1,75,3,1]\n",
        "\n",
        "for i in range(len(arr) - 1):\n",
        "for j in range(len(arr) - i - 1):\n",
        "\n",
        "if arr[j]>arr[j+1]:\n",
        "arr[j],arr[j+1] = arr[j+1],arr[j]\n",
        "\n",
        "print(arr)\n",
        "\n",
        "arr.reverse()\n",
        "\n",
        "print(arr)\n"
      ],
      "metadata": {
        "colab": {
          "base_uri": "https://localhost:8080/"
        },
        "id": "eAXQ6cVbnASn",
        "outputId": "b76d9202-703b-4f15-f0a3-ff157e2a39fe"
      },
      "execution_count": 12,
      "outputs": [
        {
          "output_type": "stream",
          "name": "stdout",
          "text": [
            "[1, 1, 2, 3, 4, 8, 75, 90]\n",
            "[90, 75, 8, 4, 3, 2, 1, 1]\n"
          ]
        }
      ]
    },
    {
      "cell_type": "code",
      "source": [
        "\n",
        "\n",
        "dict_1  = {\n",
        "\"Name\" : \"Aryaman\",\n",
        "\"Age\" : 20 ,\n",
        "\"Interests\" : [\"Tomfoolery\",\"Poetry\"]\n",
        "}\n",
        "\n",
        "dict_2 = {\n",
        "\"Username\" : \"Ary0o8\",\n",
        "\"Password\" : 123455\n",
        "}\n",
        "\n",
        "for key,value in dict_1.items():\n",
        "dict_2[key] = value\n",
        "\n",
        "print(dict_2)\n"
      ],
      "metadata": {
        "colab": {
          "base_uri": "https://localhost:8080/"
        },
        "id": "lQFwQ7kapeTG",
        "outputId": "933e682c-8f9f-404d-8c78-1eccdc97bddb"
      },
      "execution_count": 13,
      "outputs": [
        {
          "output_type": "stream",
          "name": "stdout",
          "text": [
            "{'Username': 'Ary0o8', 'Password': 123455, 'Name': 'Aryaman', 'Age': 20, 'Interests': ['Tomfoolery', 'Poetry']}\n"
          ]
        }
      ]
    },
    {
      "cell_type": "code",
      "source": [
        "\n",
        "\n",
        "ans = \"Hello there my name is Aryaman\"\n",
        "ans.lower()\n",
        "count = 0\n",
        "\n",
        "for i in range(len(ans)):\n",
        "if ans[i]==\"a\" or ans[i]==\"e\" or ans[i]==\"i\" or ans[i]==\"o\" or ans[i]==\"u\":\n",
        "count+=1\n",
        "\n",
        "print(count)\n"
      ],
      "metadata": {
        "colab": {
          "base_uri": "https://localhost:8080/"
        },
        "id": "8hh8FlFmxfD0",
        "outputId": "df4b0b9d-f66c-48d0-fd8d-3322894e1141"
      },
      "execution_count": 14,
      "outputs": [
        {
          "output_type": "stream",
          "name": "stdout",
          "text": [
            "9\n"
          ]
        }
      ]
    },
    {
      "cell_type": "code",
      "source": [
        "\n",
        "\n",
        "input1 = \"Hello there my name is Aryaman\"\n",
        "string = list(input1)\n",
        "\n",
        "for i in range(len(string)//2):\n",
        "string[i],string[len(string)-i-1] = string[len(string)-i-1],string[i]\n",
        "\n",
        "ans = ''.join(string)\n",
        "print(ans)\n",
        "\n",
        "\n",
        "\n",
        "ans_v2 = input1[::-1]\n",
        "print(ans_v2)\n"
      ],
      "metadata": {
        "colab": {
          "base_uri": "https://localhost:8080/"
        },
        "id": "9R3-RdipydU4",
        "outputId": "c59579b5-f79a-4470-b700-7389068daf9d"
      },
      "execution_count": 15,
      "outputs": [
        {
          "output_type": "stream",
          "name": "stdout",
          "text": [
            "namayrA si eman ym ereht olleH\n",
            "namayrA si eman ym ereht olleH\n"
          ]
        }
      ]
    },
    {
      "cell_type": "code",
      "source": [
        "\n",
        "\n",
        "\n",
        "file = open(\"myFirstFile.txt\",\"r+\")\n",
        "\n",
        "file.writelines(\"My First Text in the file , Yay!!!\")\n",
        "content = file.readline()\n",
        "\n",
        "print(content)\n",
        "\n",
        "\n",
        "file.close()\n"
      ],
      "metadata": {
        "colab": {
          "base_uri": "https://localhost:8080/"
        },
        "id": "YgARu88Zz5jd",
        "outputId": "979489c3-b31f-4da4-d612-be34f73603de"
      },
      "execution_count": 16,
      "outputs": [
        {
          "output_type": "stream",
          "name": "stdout",
          "text": [
            "My First Text in the file , YAy!!!My First Text in the file , Yay!!!My First Text in the file , Yay!!!New data coming your way. WeeeeeeeNew data coming your way. WeeeeeeeNew data coming your way. WeeeeeeeMy First Text in the file , Yay!!!New data coming your way. WeeeeeeeNew data coming your way. Weeeeeee\n",
            "\n"
          ]
        }
      ]
    },
    {
      "cell_type": "code",
      "source": [
        "\n",
        "\n",
        "\n",
        "file = open(\"myFirstFile.txt\" , \"a+\")\n",
        "\n",
        "file.writelines(\"New data coming your way. Weeeeeee \\n\")\n",
        "file.close()\n",
        "\n",
        "file = open(\"myFirstFile.txt\" , \"r\")\n",
        "content = file.readline()\n",
        "\n",
        "print(content)\n",
        "\n",
        "file.close()\n"
      ],
      "metadata": {
        "colab": {
          "base_uri": "https://localhost:8080/"
        },
        "id": "_7tN4h2V61HS",
        "outputId": "b3fa6c19-8979-4319-ebb3-a29775018ab9"
      },
      "execution_count": 17,
      "outputs": [
        {
          "output_type": "stream",
          "name": "stdout",
          "text": [
            "My First Text in the file , YAy!!!My First Text in the file , Yay!!!My First Text in the file , Yay!!!New data coming your way. WeeeeeeeNew data coming your way. WeeeeeeeNew data coming your way. WeeeeeeeMy First Text in the file , Yay!!!New data coming your way. WeeeeeeeNew data coming your way. Weeeeeee\n",
            "\n"
          ]
        }
      ]
    },
    {
      "cell_type": "code",
      "source": [
        "\n",
        "file = open(\"myFirstFile.txt\" , \"r\")\n",
        "\n",
        "count = len(file.readlines())\n",
        "\n",
        "print(count)\n"
      ],
      "metadata": {
        "colab": {
          "base_uri": "https://localhost:8080/"
        },
        "id": "upUUJkue-r24",
        "outputId": "019603de-85a4-4529-d842-b675e2d99a41"
      },
      "execution_count": 18,
      "outputs": [
        {
          "output_type": "stream",
          "name": "stdout",
          "text": [
            "6\n"
          ]
        }
      ]
    },
    {
      "cell_type": "code",
      "source": [
        "\n",
        "\n",
        "\n",
        "n_1 = int(input('Please enter numerator: '))\n",
        "n_2 = int(input('Please enter denominator: '))\n",
        "\n",
        "try:\n",
        "n3 = n_1 / n_2\n",
        "print(\"Result:\", n3)\n",
        "except ZeroDivisionError:\n",
        "print(\"Cannot divide by 0.\")\n"
      ],
      "metadata": {
        "colab": {
          "base_uri": "https://localhost:8080/"
        },
        "id": "XBB6d5hq_kgk",
        "outputId": "de621a98-8431-4e59-fc79-94458d21d95b"
      },
      "execution_count": 19,
      "outputs": [
        {
          "output_type": "stream",
          "name": "stdout",
          "text": [
            "Please enter numerator: 5\n",
            "Please enter denominator: 0\n",
            "Cannot divide by 0.\n"
          ]
        }
      ]
    },
    {
      "cell_type": "code",
      "source": [
        "\n",
        "\n",
        "\n",
        "try:\n",
        "n_1 = int(input(\"Please enter an integer: \"));\n",
        "\n",
        "except ValueError:\n",
        "print(\"Invalid input entered\")\n"
      ],
      "metadata": {
        "colab": {
          "base_uri": "https://localhost:8080/"
        },
        "id": "dfKJ_UhBGf41",
        "outputId": "ded93148-f01b-4489-ba0c-08cbddafa020"
      },
      "execution_count": 22,
      "outputs": [
        {
          "name": "stdout",
          "output_type": "stream",
          "text": [
            "Please enter an integer: 7\n"
          ]
        }
      ]
    },
    {
      "cell_type": "code",
      "source": [
        "\n",
        "\n",
        "\n",
        "try:\n",
        "n_1 = int(input(\"Enter your age: \"))\n",
        "except ValueError:\n",
        "print(\"Invalid Age entered\")\n",
        "else:\n",
        "print(\"You look young for your age: \",n_1)\n",
        "finally:\n",
        "print(\"Thanks for checking your age\")\n"
      ],
      "metadata": {
        "colab": {
          "base_uri": "https://localhost:8080/"
        },
        "id": "mswjLWiLIyAg",
        "outputId": "e9519b10-8de1-4fca-e3b6-1504f3d9f1e6"
      },
      "execution_count": 25,
      "outputs": [
        {
          "output_type": "stream",
          "name": "stdout",
          "text": [
            "Enter your age: 69\n",
            "You look young for your age:  69\n",
            "Thanks for checking your age\n"
          ]
        }
      ]
    },
    {
      "cell_type": "code",
      "source": [
        "\n",
        "\n",
        "\n",
        "import random\n",
        "\n",
        "print(\"generating 5 randoms : \")\n",
        "\n",
        "for i in range(5):\n",
        "print(\"random\n"
      ],
      "metadata": {
        "colab": {
          "base_uri": "https://localhost:8080/"
        },
        "id": "bMuO_e1hJRwL",
        "outputId": "602e9b77-45a9-459a-a18d-a5d7536e4297"
      },
      "execution_count": 28,
      "outputs": [
        {
          "output_type": "stream",
          "name": "stdout",
          "text": [
            "generating 5 randoms : \n",
            "random # 1  is  13\n",
            "random # 2  is  82\n",
            "random # 3  is  7\n",
            "random # 4  is  73\n",
            "random # 5  is  94\n"
          ]
        }
      ]
    },
    {
      "cell_type": "code",
      "source": [
        "\n",
        "\n",
        "import random\n",
        "import math\n",
        "\n",
        "num = random.randint(1,100)\n",
        "print(\"The number is = \" , num)\n",
        "\n",
        "if(num<=1):\n",
        "print(\"The number is not prime\")\n",
        "elif(num==2):\n",
        "print(\"The number is prime\")\n",
        "else:\n",
        "ans = True\n",
        "for i in range(2,math.ceil(math.sqrt(num))+1):\n",
        "if num%i==0:\n",
        "ans = False\n",
        "break\n",
        "print(\"The number is prime: \" ,ans )\n"
      ],
      "metadata": {
        "colab": {
          "base_uri": "https://localhost:8080/"
        },
        "id": "0THdUA_iK-CX",
        "outputId": "dd9f4ec5-3b08-49aa-e429-52f2befd1fd4"
      },
      "execution_count": 44,
      "outputs": [
        {
          "output_type": "stream",
          "name": "stdout",
          "text": [
            "The number is =  90\n",
            "The number is prime:  False\n"
          ]
        }
      ]
    },
    {
      "cell_type": "code",
      "source": [
        "\n",
        "\n",
        "import random\n",
        "\n",
        "face = random.randint(1,6)\n",
        "\n",
        "while True:\n",
        "print(\"Die face: \",face)\n",
        "print(\"Press 0 to quit\")\n",
        "x = int(input())\n",
        "if x==0:\n",
        "break\n",
        "face = random.randint(1,6)\n"
      ],
      "metadata": {
        "colab": {
          "base_uri": "https://localhost:8080/"
        },
        "id": "DcDuXOgQLAtC",
        "outputId": "f54aa521-af89-4941-fc16-f0b4746841de"
      },
      "execution_count": 2,
      "outputs": [
        {
          "name": "stdout",
          "output_type": "stream",
          "text": [
            "Die face:  5\n",
            "Press 0 to quit\n",
            "0\n"
          ]
        }
      ]
    },
    {
      "cell_type": "code",
      "source": [
        "\n",
        "\n",
        "import random\n",
        "\n",
        "arr = [\"Hello\" , \"Goodbye\" , \"Gutentag\"]\n",
        "random.shuffle(arr)\n",
        "print(arr)\n"
      ],
      "metadata": {
        "colab": {
          "base_uri": "https://localhost:8080/"
        },
        "id": "PzOcnIMkFpWG",
        "outputId": "22a7ab7e-d8f2-46f5-8c82-80867c0ad461"
      },
      "execution_count": 4,
      "outputs": [
        {
          "output_type": "stream",
          "name": "stdout",
          "text": [
            "['Gutentag', 'Goodbye', 'Hello']\n"
          ]
        }
      ]
    },
    {
      "cell_type": "code",
      "source": [
        "\n",
        "import random\n",
        "\n",
        "arr = [\"Hello\" , \"Goodbye\" , \"Gutentag\"]\n",
        "ind = random.randint(0,len(arr)-1)\n",
        "print(arr[ind])\n"
      ],
      "metadata": {
        "colab": {
          "base_uri": "https://localhost:8080/"
        },
        "id": "F1efcNamGY_q",
        "outputId": "6ebb3bcb-ff0d-4d77-837e-8b940947a360"
      },
      "execution_count": 12,
      "outputs": [
        {
          "output_type": "stream",
          "name": "stdout",
          "text": [
            "Gutentag\n"
          ]
        }
      ]
    },
    {
      "cell_type": "code",
      "source": [
        "\n",
        "\n",
        "\n",
        "import random\n",
        "\n",
        "password = \"\"\n",
        "length = int(input(\"Enter the length of password: \"))\n",
        "\n",
        "if length < 4:\n",
        "print(\"Invalid length entered , minimum length is 4\")\n",
        "length = 4\n",
        "\n",
        "uppercas = \"ABCDEFGHIJKLMNOPQRSTUVWXYZ\"\n",
        "lowercas = \"abcdefghijklmnopqrstuvwxyz\"\n",
        "number = \"0123456789\"\n",
        "symbols = \"!@\n",
        "\n",
        "password += random.choice(uppercas)+random.choice(lowercas)+random.choice(number)+random.choice(symbols)\n",
        "\n",
        "allSum = uppercas + lowercas + number + symbols\n",
        "\n",
        "for i in range(length - 4):\n",
        "password += random.choice(allSum)\n",
        "\n",
        "passwordFinal = list(password)\n",
        "random.shuffle(passwordFinal)\n",
        "password = \"\".join(passwordFinal)\n",
        "\n",
        "print(\"Password is : \" , password)\n"
      ],
      "metadata": {
        "colab": {
          "base_uri": "https://localhost:8080/"
        },
        "id": "NCD9vE0rG45X",
        "outputId": "8ccd7f2a-e554-40cb-9c95-f0239d80d617"
      },
      "execution_count": 17,
      "outputs": [
        {
          "output_type": "stream",
          "name": "stdout",
          "text": [
            "Enter the length of password: 3\n",
            "Invalid length entered , minimum length is 4\n",
            "Dj@8\n"
          ]
        }
      ]
    },
    {
      "cell_type": "code",
      "source": [
        "\n",
        "\n",
        "suit = ['Hearts' , 'Diamonds' , 'Clubs' , 'Spades']\n",
        "number_card = ['2', '3', '4', '5', '6', '7', '8', '9', '10', 'Jack', 'Queen', 'King', 'Ace']\n",
        "\n",
        "ans = random.choice(number_card) + \" \" + random.choice(suit)\n",
        "\n",
        "print(ans)\n"
      ],
      "metadata": {
        "colab": {
          "base_uri": "https://localhost:8080/"
        },
        "id": "QJgbG68wJnOm",
        "outputId": "70e82db3-6910-4b78-d9b4-a27c72082da7"
      },
      "execution_count": 20,
      "outputs": [
        {
          "output_type": "stream",
          "name": "stdout",
          "text": [
            "6 Hearts\n"
          ]
        }
      ]
    },
    {
      "cell_type": "code",
      "source": [
        "\n",
        "\n",
        "\n",
        "import sys\n",
        "\n",
        "num1 = sys.argv[1]\n",
        "num2 = sys.argv[2]\n",
        "result = num1 + num2\n",
        "print(f\"The sum of {num1} and {num2} is: {result}\")\n"
      ],
      "metadata": {
        "colab": {
          "base_uri": "https://localhost:8080/"
        },
        "id": "JdBUL0_hOYI2",
        "outputId": "ac670f02-2e07-41c3-c690-3a45e185007b"
      },
      "execution_count": 24,
      "outputs": [
        {
          "output_type": "stream",
          "name": "stdout",
          "text": [
            "The sum of -f and /root/.local/share/jupyter/runtime/kernel-fef59362-1051-4208-9e5f-b18dfb9ca224.json is: -f/root/.local/share/jupyter/runtime/kernel-fef59362-1051-4208-9e5f-b18dfb9ca224.json\n"
          ]
        }
      ]
    },
    {
      "cell_type": "code",
      "source": [
        "\n",
        "\n",
        "\n",
        "\n",
        "import sys\n",
        "\n",
        "input_string = sys.argv[1]\n",
        "print(f\"The length of the string '{input_string}' is: {len(input_string)}\")\n"
      ],
      "metadata": {
        "colab": {
          "base_uri": "https://localhost:8080/"
        },
        "id": "TDqTTTOXQZdA",
        "outputId": "b8c695e5-eb2e-4922-f4c9-3489991caa73"
      },
      "execution_count": 27,
      "outputs": [
        {
          "output_type": "stream",
          "name": "stdout",
          "text": [
            "The length of the string '-f' is: 2\n"
          ]
        }
      ]
    },
    {
      "cell_type": "code",
      "source": [
        "\n",
        "\n",
        "\n",
        "\n",
        "import math\n",
        "\n",
        "num = int(input(\"enter number to find square root of: \"))\n",
        "\n",
        "print(\"Square root of number = \",math.sqrt(num))\n"
      ],
      "metadata": {
        "colab": {
          "base_uri": "https://localhost:8080/"
        },
        "id": "9auSqGXuQptx",
        "outputId": "99fdf7d1-1427-4aea-b295-e3cdf7031ceb"
      },
      "execution_count": 29,
      "outputs": [
        {
          "output_type": "stream",
          "name": "stdout",
          "text": [
            "enter number to find square root of: 4\n",
            "Square root of number =  2.0\n"
          ]
        }
      ]
    },
    {
      "cell_type": "code",
      "source": [
        "\n",
        "\n",
        "\n",
        "from datetime import *\n",
        "\n",
        "print(\"Date is = \", date.today())\n",
        "print(\"Time is = \" , datetime.now().time())\n",
        "\n"
      ],
      "metadata": {
        "colab": {
          "base_uri": "https://localhost:8080/"
        },
        "id": "lVJz4pyZR1fQ",
        "outputId": "6f19e2c4-611a-42cd-8088-9bf1531fa33b"
      },
      "execution_count": 37,
      "outputs": [
        {
          "output_type": "stream",
          "name": "stdout",
          "text": [
            "Date is =  2025-01-11\n",
            "Time is =  12:20:19.464749\n"
          ]
        }
      ]
    },
    {
      "cell_type": "code",
      "source": [
        "\n",
        "\n",
        "\n",
        "import os\n",
        "\n",
        "print(\"All files in current directory are as follows = \")\n",
        "\n",
        "print(os.listdir())\n"
      ],
      "metadata": {
        "colab": {
          "base_uri": "https://localhost:8080/"
        },
        "id": "kHlqPq5ETtke",
        "outputId": "39d9b81d-9cc2-4f4f-81d3-1e79bb958139"
      },
      "execution_count": 39,
      "outputs": [
        {
          "output_type": "stream",
          "name": "stdout",
          "text": [
            "All files in current directory are as follows = \n",
            "['.config', 'sample_data']\n"
          ]
        }
      ]
    }
  ]
}